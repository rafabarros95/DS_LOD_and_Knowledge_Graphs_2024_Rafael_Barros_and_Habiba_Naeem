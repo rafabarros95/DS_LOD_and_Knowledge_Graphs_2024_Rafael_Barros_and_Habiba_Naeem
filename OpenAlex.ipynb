{
  "cells": [
    {
      "cell_type": "code",
      "execution_count": 1,
      "metadata": {
        "colab": {
          "base_uri": "https://localhost:8080/"
        },
        "id": "7VTLvIwctbDr",
        "outputId": "4c44619e-55e9-4698-bad8-bfd98fcddf87"
      },
      "outputs": [
        {
          "name": "stdout",
          "output_type": "stream",
          "text": [
            "Requirement already satisfied: requests in /usr/local/lib/python3.10/dist-packages (2.32.3)\n",
            "Requirement already satisfied: charset-normalizer<4,>=2 in /usr/local/lib/python3.10/dist-packages (from requests) (3.4.1)\n",
            "Requirement already satisfied: idna<4,>=2.5 in /usr/local/lib/python3.10/dist-packages (from requests) (3.10)\n",
            "Requirement already satisfied: urllib3<3,>=1.21.1 in /usr/local/lib/python3.10/dist-packages (from requests) (2.3.0)\n",
            "Requirement already satisfied: certifi>=2017.4.17 in /usr/local/lib/python3.10/dist-packages (from requests) (2024.12.14)\n"
          ]
        }
      ],
      "source": [
        "pip install requests"
      ]
    },
    {
      "cell_type": "code",
      "execution_count": 4,
      "metadata": {
        "colab": {
          "base_uri": "https://localhost:8080/"
        },
        "id": "dI9jYax6wkKH",
        "outputId": "21afbcc2-22e3-4df2-801c-7c551257a5f4"
      },
      "outputs": [
        {
          "name": "stdout",
          "output_type": "stream",
          "text": [
            "Data saved to openalex_10_concepts_works.csv\n"
          ]
        }
      ],
      "source": [
        "import requests\n",
        "import csv\n",
        "\n",
        "# OpenAlex API base URL\n",
        "base_url = \"https://api.openalex.org/works\"\n",
        "\n",
        "# Define 10 Concept IDs (Example IDs; replace with actual relevant IDs)\n",
        "concept_ids = [\n",
        "    \"C144133560\",  # Machine Learning\n",
        "    \"C127313418\",  # Artificial Intelligence\n",
        "    \"C121332964\",  # Deep Learning\n",
        "    \"C154945302\",  # Data Science\n",
        "    \"C187152609\",  # Natural Language Processing\n",
        "    \"C203014093\",  # Computer Vision\n",
        "    \"C206292854\",  # Robotics\n",
        "    \"C155942298\",  # Algorithms\n",
        "    \"C136952241\",  # Bioinformatics\n",
        "    \"C176746249\"   # Computational Biology\n",
        "]\n",
        "\n",
        "# Total number of works to fetch\n",
        "num_works = 1000\n",
        "page_size = 100  # Maximum results per page (OpenAlex limit)\n",
        "\n",
        "# Combine Concept IDs into a single filter string\n",
        "concept_filter = \"|\".join(concept_ids)\n",
        "\n",
        "# Output CSV file\n",
        "output_file = \"openalex_10_concepts_works.csv\"\n",
        "\n",
        "# Function to fetch works from OpenAlex\n",
        "def fetch_works(page):\n",
        "    params = {\n",
        "        \"per_page\": page_size,\n",
        "        \"page\": page,\n",
        "        \"filter\": f\"concepts.id:{concept_filter}\"\n",
        "    }\n",
        "    response = requests.get(base_url, params=params)\n",
        "    if response.status_code == 200:\n",
        "        return response.json()[\"results\"]\n",
        "    else:\n",
        "        print(f\"Failed to fetch data for page {page}: {response.status_code}\")\n",
        "        return []\n",
        "\n",
        "# Collect data for all works\n",
        "all_works = []\n",
        "for page in range(1, (num_works // page_size) + 1):\n",
        "    works = fetch_works(page)\n",
        "    if not works:\n",
        "        break\n",
        "    all_works.extend(works)\n",
        "\n",
        "# Extract relevant fields\n",
        "data = []\n",
        "for work in all_works:\n",
        "    institutions = []\n",
        "    authors = []\n",
        "    topics = []\n",
        "    domains = []\n",
        "\n",
        "    # Extract institutions and authors\n",
        "    for authorship in work.get(\"authorships\", []):\n",
        "        institutions.extend([inst[\"display_name\"] for inst in authorship.get(\"institutions\", [])])\n",
        "        authors.append(authorship.get(\"author\", {}).get(\"display_name\", \"\"))\n",
        "\n",
        "    # Extract topics and domains\n",
        "    for concept in work.get(\"concepts\", []):\n",
        "        topics.append(concept[\"display_name\"])\n",
        "        if concept[\"level\"] == 0:  # Domains are level 0 in OpenAlex hierarchy\n",
        "            domains.append(concept[\"display_name\"])\n",
        "\n",
        "    # Add work details to the data list\n",
        "    data.append({\n",
        "        \"Work_ID\": work[\"id\"],\n",
        "        \"Work_Title\": work.get(\"title\", \"\"),\n",
        "        \"Authors\": \", \".join(authors),\n",
        "        \"Published_Year\": work.get(\"publication_year\", \"\"),\n",
        "        \"Institutions\": \", \".join(set(institutions)),\n",
        "        \"Topics\": \", \".join(set(topics)),\n",
        "        \"Domains\": \", \".join(set(domains))\n",
        "    })\n",
        "\n",
        "# Save to CSV\n",
        "with open(output_file, mode=\"w\", newline=\"\", encoding=\"utf-8\") as file:\n",
        "    writer = csv.DictWriter(file, fieldnames=[\"Work_ID\", \"Work_Title\", \"Authors\", \"Published_Year\", \"Institutions\", \"Topics\", \"Domains\"])\n",
        "    writer.writeheader()\n",
        "    writer.writerows(data)\n",
        "\n",
        "print(f\"Data saved to {output_file}\")\n"
      ]
    },
    {
      "cell_type": "markdown",
      "metadata": {
        "id": "5C02Epy_0Zwe"
      },
      "source": [
        "# 1. Work Relationship with Author Entity"
      ]
    },
    {
      "cell_type": "markdown",
      "metadata": {
        "id": "LjE_C7PF2Lzq"
      },
      "source": [
        "#### Step 1: Cypher Query to Create Work Nodes"
      ]
    },
    {
      "cell_type": "code",
      "execution_count": null,
      "metadata": {
        "id": "vlPA964r0ZIX"
      },
      "outputs": [],
      "source": [
        "LOAD CSV WITH HEADERS FROM 'file:///OpenAlex_Main_Data.csv' AS row\n",
        "MERGE (work:Work {id: row.Work_ID})\n",
        "SET work.title = row.Work_Title"
      ]
    },
    {
      "cell_type": "markdown",
      "metadata": {
        "id": "NewseV072fWm"
      },
      "source": [
        "#### Step 2: Create Nodes for Authors"
      ]
    },
    {
      "cell_type": "code",
      "execution_count": null,
      "metadata": {
        "id": "iJymR_222kY_"
      },
      "outputs": [],
      "source": [
        "LOAD CSV WITH HEADERS FROM 'file:///OpenAlex_Main_Data.csv' AS row\n",
        "WITH row, SPLIT(row.Authors, \",\") AS authors\n",
        "UNWIND authors AS author\n",
        "MERGE (a:Author {name: TRIM(author)})"
      ]
    },
    {
      "cell_type": "markdown",
      "metadata": {
        "id": "ZC79oL5h2uZD"
      },
      "source": [
        "#### Step 3: Create Relationships Between Work and Authors"
      ]
    },
    {
      "cell_type": "code",
      "execution_count": null,
      "metadata": {
        "id": "aV6T5HgS2uCE"
      },
      "outputs": [],
      "source": [
        "LOAD CSV WITH HEADERS FROM 'file:///OpenAlex_Main_Data.csv' AS row\n",
        "WITH row, SPLIT(row.Authors, \",\") AS authors\n",
        "UNWIND authors AS author\n",
        "MATCH (work:Work {id: row.Work_ID})\n",
        "MERGE (a:Author {name: TRIM(author)})\n",
        "MERGE (work)-[:AUTHORIZED_BY]->(a)\n"
      ]
    },
    {
      "cell_type": "markdown",
      "metadata": {
        "id": "xVsFmiCe3JnQ"
      },
      "source": [
        "#### Step 4: Visualizing the work and Authors relationship"
      ]
    },
    {
      "cell_type": "code",
      "execution_count": null,
      "metadata": {
        "id": "sv6ByYAV3UoE"
      },
      "outputs": [],
      "source": [
        "MATCH (work:Work)-[:AUTHORIZED_BY]->(author:Author)\n",
        "RETURN work, author\n",
        "LIMIT 100"
      ]
    },
    {
      "cell_type": "markdown",
      "metadata": {
        "id": "_HMyyjli9lak"
      },
      "source": [
        "# 2. Work Relationship with Published year"
      ]
    },
    {
      "cell_type": "markdown",
      "metadata": {
        "id": "hdmTMOWu_OHR"
      },
      "source": [
        "#### Step 5: Create Year nodes\n"
      ]
    },
    {
      "cell_type": "code",
      "execution_count": null,
      "metadata": {
        "id": "X4byc7t8_SPo"
      },
      "outputs": [],
      "source": [
        "LOAD CSV WITH HEADERS FROM 'file:///OpenAlex_Main_Data.csv' AS row\n",
        "WITH row WHERE row.Published_Year IS NOT NULL\n",
        "MERGE (year:Year {year: row.Published_Year})\n"
      ]
    },
    {
      "cell_type": "markdown",
      "metadata": {
        "id": "m5Yygbh2_Tc9"
      },
      "source": [
        "#### Step 6: Create Work and Year relationship"
      ]
    },
    {
      "cell_type": "code",
      "execution_count": null,
      "metadata": {
        "id": "wtzeh9mz_fhA"
      },
      "outputs": [],
      "source": [
        "LOAD CSV WITH HEADERS FROM 'file:///OpenAlex_Main_Data.csv' AS row\n",
        "WITH row WHERE row.Published_Year IS NOT NULL\n",
        "MATCH (work:Work {id: row.Work_ID})\n",
        "MERGE (year:Year {year: row.Published_Year})\n",
        "MERGE (work)-[:PUBLISHED_IN]->(year)"
      ]
    },
    {
      "cell_type": "markdown",
      "metadata": {
        "id": "g6uzf6aj_ZI-"
      },
      "source": [
        "#### Step 7: Visualizing Work and Year relationship"
      ]
    },
    {
      "cell_type": "code",
      "execution_count": null,
      "metadata": {
        "id": "tgA_XEPz_inu"
      },
      "outputs": [],
      "source": [
        "MATCH (work:Work)-[:PUBLISHED_IN]->(year:Year)\n",
        "RETURN work, year\n",
        "LIMIT 10"
      ]
    },
    {
      "cell_type": "markdown",
      "metadata": {
        "id": "hcvSs-QBAQpF"
      },
      "source": [
        "# 3. Authors affiliation relationship with Institutions"
      ]
    },
    {
      "cell_type": "markdown",
      "metadata": {
        "id": "S2a519LGBFLw"
      },
      "source": [
        "#### Step 7: Create Nodes for Institutions"
      ]
    },
    {
      "cell_type": "code",
      "execution_count": null,
      "metadata": {
        "id": "aWQg2_gRBuVb"
      },
      "outputs": [],
      "source": [
        "LOAD CSV WITH HEADERS FROM 'file:///OpenAlex_Main_Data.csv' AS row\n",
        "WITH row, SPLIT(row.Institutions, \",\") AS institutions\n",
        "UNWIND institutions AS institution\n",
        "MERGE (inst:Institution {name: TRIM(institution)})"
      ]
    },
    {
      "cell_type": "markdown",
      "metadata": {
        "id": "tPndwkezBf1T"
      },
      "source": [
        "#### Step 8: Create Relationships Between Authors and Institutions"
      ]
    },
    {
      "cell_type": "code",
      "execution_count": null,
      "metadata": {
        "id": "ZVQRRqLmDD31"
      },
      "outputs": [],
      "source": [
        "LOAD CSV WITH HEADERS FROM 'file:///OpenAlex_Main_Data.csv' AS row\n",
        "WITH row, SPLIT(row.Authors, \",\") AS authors, SPLIT(row.Institutions, \",\") AS institutions\n",
        "UNWIND authors AS author\n",
        "UNWIND institutions AS institution\n",
        "MATCH (a:Author {name: TRIM(author)})\n",
        "MERGE (inst:Institution {name: TRIM(institution)})\n",
        "MERGE (a)-[:AFFILIATED_WITH]->(inst)\n"
      ]
    },
    {
      "cell_type": "markdown",
      "metadata": {
        "id": "8cNE3SjnBoHy"
      },
      "source": [
        "####  Step 9: Visualize the Author-Institution Relationship"
      ]
    },
    {
      "cell_type": "code",
      "execution_count": null,
      "metadata": {
        "id": "CSIwcI6xDE1a"
      },
      "outputs": [],
      "source": [
        "MATCH (author:Author)-[:AFFILIATED_WITH]->(inst:Institution)\n",
        "RETURN author, inst\n",
        "LIMIT 100\n"
      ]
    },
    {
      "cell_type": "markdown",
      "metadata": {
        "id": "9M09DbWYFJKg"
      },
      "source": [
        "# 4. Work relationship with Domain"
      ]
    },
    {
      "cell_type": "markdown",
      "metadata": {
        "id": "lutUks62QiE8"
      },
      "source": [
        "#### Step 10: Create Nodes for Domains"
      ]
    },
    {
      "cell_type": "code",
      "execution_count": null,
      "metadata": {
        "id": "kfiJhdLjQPT5"
      },
      "outputs": [],
      "source": [
        "LOAD CSV WITH HEADERS FROM 'file:///OpenAlex_Main_Data.csv' AS row\n",
        "WITH SPLIT(row.Domains, \",\") AS domains\n",
        "UNWIND domains AS domain\n",
        "MERGE (d:Domain {name: TRIM(domain)})"
      ]
    },
    {
      "cell_type": "markdown",
      "metadata": {
        "id": "PL2TMeLSQicS"
      },
      "source": [
        "#### Step 11: Create Relationships Between Work and Domain"
      ]
    },
    {
      "cell_type": "code",
      "execution_count": null,
      "metadata": {
        "id": "OEJrEmeqQR95"
      },
      "outputs": [],
      "source": [
        "LOAD CSV WITH HEADERS FROM 'file:///OpenAlex_Main_Data.csv' AS row\n",
        "WITH row, SPLIT(row.Domains, \",\") AS domains\n",
        "UNWIND domains AS domain\n",
        "MATCH (work:Work {id: row.Work_ID})\n",
        "MERGE (d:Domain {name: TRIM(domain)})\n",
        "MERGE (work)-[:BELONGS_TO]->(d)"
      ]
    },
    {
      "cell_type": "markdown",
      "metadata": {
        "id": "c1nH2S8MQ1kZ"
      },
      "source": [
        "#### Step 12: Visualize Relationships Between Work and Domain"
      ]
    },
    {
      "cell_type": "code",
      "execution_count": null,
      "metadata": {
        "id": "NPtOZCIOQXKz"
      },
      "outputs": [],
      "source": [
        "MATCH (work:Work)-[:BELONGS_TO]->(domain:Domain)\n",
        "WHERE domain.name IN [\"Art\", \"Materials science\", \"Business\"]\n",
        "RETURN work, domain\n",
        "LIMIT 300"
      ]
    },
    {
      "cell_type": "markdown",
      "metadata": {
        "id": "51UaO3_gFYzO"
      },
      "source": [
        "# 5. Work relationship with Topics"
      ]
    },
    {
      "cell_type": "markdown",
      "metadata": {
        "id": "uRf0UBP1SCbY"
      },
      "source": [
        "#### Step 13: Create Nodes for Topics"
      ]
    },
    {
      "cell_type": "code",
      "execution_count": null,
      "metadata": {
        "id": "NnPyNWT_SBzJ"
      },
      "outputs": [],
      "source": [
        "LOAD CSV WITH HEADERS FROM 'file:///OpenAlex_Main_Data.csv' AS row\n",
        "WITH SPLIT(row.Topics, \",\") AS topics\n",
        "UNWIND topics AS topic\n",
        "MERGE (t:Topic {name: TRIM(topic)})"
      ]
    },
    {
      "cell_type": "markdown",
      "metadata": {
        "id": "syo7ZAJISFXI"
      },
      "source": [
        "#### Step 14: Create Relationships Between Work and Topics"
      ]
    },
    {
      "cell_type": "code",
      "execution_count": null,
      "metadata": {
        "id": "HR2GgashSGE3"
      },
      "outputs": [],
      "source": [
        "LOAD CSV WITH HEADERS FROM 'file:///OpenAlex_Main_Data.csv' AS row\n",
        "WITH row, SPLIT(row.Topics, \",\") AS topics\n",
        "UNWIND topics AS topic\n",
        "MATCH (work:Work {id: row.Work_ID})\n",
        "MERGE (t:Topic {name: TRIM(topic)})\n",
        "MERGE (work)-[:HAS_TOPIC]->(t)"
      ]
    },
    {
      "cell_type": "markdown",
      "metadata": {
        "id": "vnAJRgwbSFsg"
      },
      "source": [
        "#### Step 15: Visualize Relationships Between Work and Topics"
      ]
    },
    {
      "cell_type": "code",
      "execution_count": null,
      "metadata": {
        "id": "j4jyBgkPSGjp"
      },
      "outputs": [],
      "source": [
        "MATCH (work:Work)-[:HAS_TOPIC]->(topic:Topic)\n",
        "RETURN work, topic\n",
        "LIMIT 150"
      ]
    },
    {
      "cell_type": "markdown",
      "metadata": {
        "id": "d1C8OdfATu0z"
      },
      "source": [
        "# Example query to view knowledge graph of a single work."
      ]
    },
    {
      "cell_type": "code",
      "execution_count": null,
      "metadata": {
        "id": "PAQpqBYGT1xG"
      },
      "outputs": [],
      "source": [
        "MATCH (work:Work {id: \"https://openalex.org/W2128635872\"})\n",
        "OPTIONAL MATCH (work)-[:AUTHORIZED_BY]->(author:Author)\n",
        "OPTIONAL MATCH (work)-[:PUBLISHED_IN]->(year:Year)\n",
        "OPTIONAL MATCH (author)-[:AFFILIATED_WITH]->(institution:Institution)\n",
        "OPTIONAL MATCH (work)-[:BELONGS_TO]->(domain:Domain)\n",
        "OPTIONAL MATCH (work)-[:HAS_TOPIC]->(topic:Topic)\n",
        "RETURN work, author, year, institution, domain, topic"
      ]
    }
  ],
  "metadata": {
    "colab": {
      "provenance": []
    },
    "kernelspec": {
      "display_name": "Python 3",
      "name": "python3"
    },
    "language_info": {
      "name": "python"
    }
  },
  "nbformat": 4,
  "nbformat_minor": 0
}
